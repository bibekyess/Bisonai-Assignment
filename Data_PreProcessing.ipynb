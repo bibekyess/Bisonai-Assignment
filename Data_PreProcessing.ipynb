{
  "nbformat": 4,
  "nbformat_minor": 0,
  "metadata": {
    "colab": {
      "name": "Bisonai Data PreProcessing.ipynb",
      "provenance": [],
      "collapsed_sections": []
    },
    "kernelspec": {
      "name": "python3",
      "display_name": "Python 3"
    },
    "language_info": {
      "name": "python"
    }
  },
  "cells": [
    {
      "cell_type": "code",
      "execution_count": 1,
      "metadata": {
        "colab": {
          "base_uri": "https://localhost:8080/"
        },
        "id": "lDh8-s8Pb33d",
        "outputId": "5df42b0d-c00d-48e6-d01d-adb7d64d123a"
      },
      "outputs": [
        {
          "output_type": "stream",
          "name": "stdout",
          "text": [
            "Mounted at /content/drive\n"
          ]
        }
      ],
      "source": [
        "from google.colab import drive\n",
        "google_drive_prefix = '/content/drive'\n",
        "drive.mount(google_drive_prefix)"
      ]
    },
    {
      "cell_type": "code",
      "source": [
        "import pandas as pd\n",
        "import numpy as np\n",
        "import plotly.express as px"
      ],
      "metadata": {
        "id": "IXaTLBFRcbdR"
      },
      "execution_count": 2,
      "outputs": []
    },
    {
      "cell_type": "code",
      "source": [
        "df = pd.read_csv('/content/drive/My Drive/Bisonai/Random data/rough.csv')"
      ],
      "metadata": {
        "id": "phWq0swocjTe"
      },
      "execution_count": 3,
      "outputs": []
    },
    {
      "cell_type": "code",
      "source": [
        "# df"
      ],
      "metadata": {
        "id": "meX39F_QdNvT"
      },
      "execution_count": 115,
      "outputs": []
    },
    {
      "cell_type": "code",
      "source": [
        "# creates a random values for each dates\n",
        "import random\n",
        "value = []\n",
        "for i in range(len(df)):\n",
        "  value.append(random.randint(0, 250))\n",
        "df['value'] = value\n",
        "df"
      ],
      "metadata": {
        "colab": {
          "base_uri": "https://localhost:8080/",
          "height": 423
        },
        "id": "VMldOYJndfiT",
        "outputId": "8c1a6737-b20d-4ab9-bfb4-799744200640"
      },
      "execution_count": 15,
      "outputs": [
        {
          "output_type": "execute_result",
          "data": {
            "text/html": [
              "\n",
              "  <div id=\"df-cc759480-b81a-4425-a07f-174118fd7367\">\n",
              "    <div class=\"colab-df-container\">\n",
              "      <div>\n",
              "<style scoped>\n",
              "    .dataframe tbody tr th:only-of-type {\n",
              "        vertical-align: middle;\n",
              "    }\n",
              "\n",
              "    .dataframe tbody tr th {\n",
              "        vertical-align: top;\n",
              "    }\n",
              "\n",
              "    .dataframe thead th {\n",
              "        text-align: right;\n",
              "    }\n",
              "</style>\n",
              "<table border=\"1\" class=\"dataframe\">\n",
              "  <thead>\n",
              "    <tr style=\"text-align: right;\">\n",
              "      <th></th>\n",
              "      <th>datetime</th>\n",
              "      <th>value</th>\n",
              "    </tr>\n",
              "  </thead>\n",
              "  <tbody>\n",
              "    <tr>\n",
              "      <th>0</th>\n",
              "      <td>2019-05-09 00:01:35</td>\n",
              "      <td>37</td>\n",
              "    </tr>\n",
              "    <tr>\n",
              "      <th>1</th>\n",
              "      <td>2019-05-09 00:03:30</td>\n",
              "      <td>35</td>\n",
              "    </tr>\n",
              "    <tr>\n",
              "      <th>2</th>\n",
              "      <td>2019-05-09 00:03:38</td>\n",
              "      <td>55</td>\n",
              "    </tr>\n",
              "    <tr>\n",
              "      <th>3</th>\n",
              "      <td>2019-05-09 00:03:40</td>\n",
              "      <td>233</td>\n",
              "    </tr>\n",
              "    <tr>\n",
              "      <th>4</th>\n",
              "      <td>2019-05-09 00:03:51</td>\n",
              "      <td>44</td>\n",
              "    </tr>\n",
              "    <tr>\n",
              "      <th>...</th>\n",
              "      <td>...</td>\n",
              "      <td>...</td>\n",
              "    </tr>\n",
              "    <tr>\n",
              "      <th>35556</th>\n",
              "      <td>2019-05-09 23:58:57</td>\n",
              "      <td>242</td>\n",
              "    </tr>\n",
              "    <tr>\n",
              "      <th>35557</th>\n",
              "      <td>2019-05-09 23:59:29</td>\n",
              "      <td>190</td>\n",
              "    </tr>\n",
              "    <tr>\n",
              "      <th>35558</th>\n",
              "      <td>2019-05-09 23:59:34</td>\n",
              "      <td>35</td>\n",
              "    </tr>\n",
              "    <tr>\n",
              "      <th>35559</th>\n",
              "      <td>2019-05-09 23:59:40</td>\n",
              "      <td>136</td>\n",
              "    </tr>\n",
              "    <tr>\n",
              "      <th>35560</th>\n",
              "      <td>2019-05-09 23:59:59</td>\n",
              "      <td>230</td>\n",
              "    </tr>\n",
              "  </tbody>\n",
              "</table>\n",
              "<p>35561 rows × 2 columns</p>\n",
              "</div>\n",
              "      <button class=\"colab-df-convert\" onclick=\"convertToInteractive('df-cc759480-b81a-4425-a07f-174118fd7367')\"\n",
              "              title=\"Convert this dataframe to an interactive table.\"\n",
              "              style=\"display:none;\">\n",
              "        \n",
              "  <svg xmlns=\"http://www.w3.org/2000/svg\" height=\"24px\"viewBox=\"0 0 24 24\"\n",
              "       width=\"24px\">\n",
              "    <path d=\"M0 0h24v24H0V0z\" fill=\"none\"/>\n",
              "    <path d=\"M18.56 5.44l.94 2.06.94-2.06 2.06-.94-2.06-.94-.94-2.06-.94 2.06-2.06.94zm-11 1L8.5 8.5l.94-2.06 2.06-.94-2.06-.94L8.5 2.5l-.94 2.06-2.06.94zm10 10l.94 2.06.94-2.06 2.06-.94-2.06-.94-.94-2.06-.94 2.06-2.06.94z\"/><path d=\"M17.41 7.96l-1.37-1.37c-.4-.4-.92-.59-1.43-.59-.52 0-1.04.2-1.43.59L10.3 9.45l-7.72 7.72c-.78.78-.78 2.05 0 2.83L4 21.41c.39.39.9.59 1.41.59.51 0 1.02-.2 1.41-.59l7.78-7.78 2.81-2.81c.8-.78.8-2.07 0-2.86zM5.41 20L4 18.59l7.72-7.72 1.47 1.35L5.41 20z\"/>\n",
              "  </svg>\n",
              "      </button>\n",
              "      \n",
              "  <style>\n",
              "    .colab-df-container {\n",
              "      display:flex;\n",
              "      flex-wrap:wrap;\n",
              "      gap: 12px;\n",
              "    }\n",
              "\n",
              "    .colab-df-convert {\n",
              "      background-color: #E8F0FE;\n",
              "      border: none;\n",
              "      border-radius: 50%;\n",
              "      cursor: pointer;\n",
              "      display: none;\n",
              "      fill: #1967D2;\n",
              "      height: 32px;\n",
              "      padding: 0 0 0 0;\n",
              "      width: 32px;\n",
              "    }\n",
              "\n",
              "    .colab-df-convert:hover {\n",
              "      background-color: #E2EBFA;\n",
              "      box-shadow: 0px 1px 2px rgba(60, 64, 67, 0.3), 0px 1px 3px 1px rgba(60, 64, 67, 0.15);\n",
              "      fill: #174EA6;\n",
              "    }\n",
              "\n",
              "    [theme=dark] .colab-df-convert {\n",
              "      background-color: #3B4455;\n",
              "      fill: #D2E3FC;\n",
              "    }\n",
              "\n",
              "    [theme=dark] .colab-df-convert:hover {\n",
              "      background-color: #434B5C;\n",
              "      box-shadow: 0px 1px 3px 1px rgba(0, 0, 0, 0.15);\n",
              "      filter: drop-shadow(0px 1px 2px rgba(0, 0, 0, 0.3));\n",
              "      fill: #FFFFFF;\n",
              "    }\n",
              "  </style>\n",
              "\n",
              "      <script>\n",
              "        const buttonEl =\n",
              "          document.querySelector('#df-cc759480-b81a-4425-a07f-174118fd7367 button.colab-df-convert');\n",
              "        buttonEl.style.display =\n",
              "          google.colab.kernel.accessAllowed ? 'block' : 'none';\n",
              "\n",
              "        async function convertToInteractive(key) {\n",
              "          const element = document.querySelector('#df-cc759480-b81a-4425-a07f-174118fd7367');\n",
              "          const dataTable =\n",
              "            await google.colab.kernel.invokeFunction('convertToInteractive',\n",
              "                                                     [key], {});\n",
              "          if (!dataTable) return;\n",
              "\n",
              "          const docLinkHtml = 'Like what you see? Visit the ' +\n",
              "            '<a target=\"_blank\" href=https://colab.research.google.com/notebooks/data_table.ipynb>data table notebook</a>'\n",
              "            + ' to learn more about interactive tables.';\n",
              "          element.innerHTML = '';\n",
              "          dataTable['output_type'] = 'display_data';\n",
              "          await google.colab.output.renderOutput(dataTable, element);\n",
              "          const docLink = document.createElement('div');\n",
              "          docLink.innerHTML = docLinkHtml;\n",
              "          element.appendChild(docLink);\n",
              "        }\n",
              "      </script>\n",
              "    </div>\n",
              "  </div>\n",
              "  "
            ],
            "text/plain": [
              "                  datetime  value\n",
              "0      2019-05-09 00:01:35     37\n",
              "1      2019-05-09 00:03:30     35\n",
              "2      2019-05-09 00:03:38     55\n",
              "3      2019-05-09 00:03:40    233\n",
              "4      2019-05-09 00:03:51     44\n",
              "...                    ...    ...\n",
              "35556  2019-05-09 23:58:57    242\n",
              "35557  2019-05-09 23:59:29    190\n",
              "35558  2019-05-09 23:59:34     35\n",
              "35559  2019-05-09 23:59:40    136\n",
              "35560  2019-05-09 23:59:59    230\n",
              "\n",
              "[35561 rows x 2 columns]"
            ]
          },
          "metadata": {},
          "execution_count": 15
        }
      ]
    },
    {
      "cell_type": "code",
      "source": [
        "# This is used to down load the df dataframe into respective 20.csv, 21.csv, ....., 30.csv\n",
        "# df.to_csv('30.csv', index=False)"
      ],
      "metadata": {
        "id": "PWlyuk1kd0aW"
      },
      "execution_count": 16,
      "outputs": []
    },
    {
      "cell_type": "markdown",
      "source": [
        "The date of the downloaded csv files are modified manually on our desired date range and then uploaded on the google drive."
      ],
      "metadata": {
        "id": "7Zr66O7Bsdmb"
      }
    },
    {
      "cell_type": "code",
      "source": [
        "# fetches all the dataframes and stores them in an array\n",
        "test_df = []\n",
        "for i in range(11):\n",
        "  a = 20 + i\n",
        "  print(a)\n",
        "  test_df.append(pd.read_csv('/content/drive/My Drive/Bisonai/Random data/' + str(a) + '.csv'))\n",
        "test_df"
      ],
      "metadata": {
        "colab": {
          "base_uri": "https://localhost:8080/"
        },
        "id": "I3djzJihjKye",
        "outputId": "2fff0e03-f27f-4199-e9d9-1ac28cbba8bc"
      },
      "execution_count": 18,
      "outputs": [
        {
          "output_type": "stream",
          "name": "stdout",
          "text": [
            "20\n",
            "21\n",
            "22\n",
            "23\n",
            "24\n",
            "25\n",
            "26\n",
            "27\n",
            "28\n",
            "29\n",
            "30\n"
          ]
        },
        {
          "output_type": "execute_result",
          "data": {
            "text/plain": [
              "[                      datetime  value\n",
              " 0      20/12/2021  12:01:35 AM     51\n",
              " 1      20/12/2021  12:03:30 AM     54\n",
              " 2      20/12/2021  12:03:38 AM     92\n",
              " 3      20/12/2021  12:03:40 AM     73\n",
              " 4      20/12/2021  12:03:51 AM     92\n",
              " ...                        ...    ...\n",
              " 35556  20/12/2021  11:58:57 PM     98\n",
              " 35557  20/12/2021  11:59:29 PM     62\n",
              " 35558  20/12/2021  11:59:34 PM     90\n",
              " 35559  20/12/2021  11:59:40 PM     92\n",
              " 35560  20/12/2021  11:59:59 PM     51\n",
              " \n",
              " [35561 rows x 2 columns],                       datetime  value\n",
              " 0      21/12/2021  12:01:35 AM     89\n",
              " 1      21/12/2021  12:03:30 AM     58\n",
              " 2      21/12/2021  12:03:38 AM     91\n",
              " 3      21/12/2021  12:03:40 AM     65\n",
              " 4      21/12/2021  12:03:51 AM     77\n",
              " ...                        ...    ...\n",
              " 35556  21/12/2021  11:58:57 PM     68\n",
              " 35557  21/12/2021  11:59:29 PM     68\n",
              " 35558  21/12/2021  11:59:34 PM     58\n",
              " 35559  21/12/2021  11:59:40 PM     65\n",
              " 35560  21/12/2021  11:59:59 PM     66\n",
              " \n",
              " [35561 rows x 2 columns],                       datetime  value\n",
              " 0      22/12/2021  12:01:35 AM     14\n",
              " 1      22/12/2021  12:03:30 AM     99\n",
              " 2      22/12/2021  12:03:38 AM      7\n",
              " 3      22/12/2021  12:03:40 AM     14\n",
              " 4      22/12/2021  12:03:51 AM     78\n",
              " ...                        ...    ...\n",
              " 35556  22/12/2021  11:58:57 PM     32\n",
              " 35557  22/12/2021  11:59:29 PM      2\n",
              " 35558  22/12/2021  11:59:34 PM     99\n",
              " 35559  22/12/2021  11:59:40 PM     38\n",
              " 35560  22/12/2021  11:59:59 PM     89\n",
              " \n",
              " [35561 rows x 2 columns],                       datetime  value\n",
              " 0      23/12/2021  12:01:35 AM     21\n",
              " 1      23/12/2021  12:03:30 AM     32\n",
              " 2      23/12/2021  12:03:38 AM    141\n",
              " 3      23/12/2021  12:03:40 AM     91\n",
              " 4      23/12/2021  12:03:51 AM     25\n",
              " ...                        ...    ...\n",
              " 35556  23/12/2021  11:58:57 PM      2\n",
              " 35557  23/12/2021  11:59:29 PM     79\n",
              " 35558  23/12/2021  11:59:34 PM     54\n",
              " 35559  23/12/2021  11:59:40 PM    142\n",
              " 35560  23/12/2021  11:59:59 PM    168\n",
              " \n",
              " [35561 rows x 2 columns],                       datetime  value\n",
              " 0      24/12/2021  12:01:35 AM     12\n",
              " 1      24/12/2021  12:03:30 AM     44\n",
              " 2      24/12/2021  12:03:38 AM    100\n",
              " 3      24/12/2021  12:03:40 AM    128\n",
              " 4      24/12/2021  12:03:51 AM    122\n",
              " ...                        ...    ...\n",
              " 35556  24/12/2021  11:58:57 PM     45\n",
              " 35557  24/12/2021  11:59:29 PM    133\n",
              " 35558  24/12/2021  11:59:34 PM    103\n",
              " 35559  24/12/2021  11:59:40 PM     33\n",
              " 35560  24/12/2021  11:59:59 PM    146\n",
              " \n",
              " [35561 rows x 2 columns],                       datetime  value\n",
              " 0      25/12/2021  12:01:35 AM     80\n",
              " 1      25/12/2021  12:03:30 AM     71\n",
              " 2      25/12/2021  12:03:38 AM     85\n",
              " 3      25/12/2021  12:03:40 AM     78\n",
              " 4      25/12/2021  12:03:51 AM      7\n",
              " ...                        ...    ...\n",
              " 35556  25/12/2021  11:58:57 PM      3\n",
              " 35557  25/12/2021  11:59:29 PM      8\n",
              " 35558  25/12/2021  11:59:34 PM    131\n",
              " 35559  25/12/2021  11:59:40 PM    159\n",
              " 35560  25/12/2021  11:59:59 PM     90\n",
              " \n",
              " [35561 rows x 2 columns],                       datetime  value\n",
              " 0      26/12/2021  12:01:35 AM    151\n",
              " 1      26/12/2021  12:03:30 AM     17\n",
              " 2      26/12/2021  12:03:38 AM     17\n",
              " 3      26/12/2021  12:03:40 AM     77\n",
              " 4      26/12/2021  12:03:51 AM     79\n",
              " ...                        ...    ...\n",
              " 35556  26/12/2021  11:58:57 PM     50\n",
              " 35557  26/12/2021  11:59:29 PM     74\n",
              " 35558  26/12/2021  11:59:34 PM    171\n",
              " 35559  26/12/2021  11:59:40 PM     40\n",
              " 35560  26/12/2021  11:59:59 PM    161\n",
              " \n",
              " [35561 rows x 2 columns],                       datetime  value\n",
              " 0      27/12/2021  12:01:35 AM    114\n",
              " 1      27/12/2021  12:03:30 AM     90\n",
              " 2      27/12/2021  12:03:38 AM     55\n",
              " 3      27/12/2021  12:03:40 AM    147\n",
              " 4      27/12/2021  12:03:51 AM    149\n",
              " ...                        ...    ...\n",
              " 35556  27/12/2021  11:58:57 PM    107\n",
              " 35557  27/12/2021  11:59:29 PM     34\n",
              " 35558  27/12/2021  11:59:34 PM    131\n",
              " 35559  27/12/2021  11:59:40 PM     23\n",
              " 35560  27/12/2021  11:59:59 PM    130\n",
              " \n",
              " [35561 rows x 2 columns],                       datetime  value\n",
              " 0      28/12/2021  12:01:35 AM     39\n",
              " 1      28/12/2021  12:03:30 AM     18\n",
              " 2      28/12/2021  12:03:38 AM     78\n",
              " 3      28/12/2021  12:03:40 AM     57\n",
              " 4      28/12/2021  12:03:51 AM     34\n",
              " ...                        ...    ...\n",
              " 35556  28/12/2021  11:58:57 PM     21\n",
              " 35557  28/12/2021  11:59:29 PM     38\n",
              " 35558  28/12/2021  11:59:34 PM     51\n",
              " 35559  28/12/2021  11:59:40 PM     66\n",
              " 35560  28/12/2021  11:59:59 PM     41\n",
              " \n",
              " [35561 rows x 2 columns],                       datetime  value\n",
              " 0      29/12/2021  12:01:35 AM     17\n",
              " 1      29/12/2021  12:03:30 AM    109\n",
              " 2      29/12/2021  12:03:38 AM     10\n",
              " 3      29/12/2021  12:03:40 AM     45\n",
              " 4      29/12/2021  12:03:51 AM     54\n",
              " ...                        ...    ...\n",
              " 35556  29/12/2021  11:58:57 PM     67\n",
              " 35557  29/12/2021  11:59:29 PM    103\n",
              " 35558  29/12/2021  11:59:34 PM    128\n",
              " 35559  29/12/2021  11:59:40 PM     53\n",
              " 35560  29/12/2021  11:59:59 PM     85\n",
              " \n",
              " [35561 rows x 2 columns],                       datetime  value\n",
              " 0      30/12/2021  12:01:35 AM     37\n",
              " 1      30/12/2021  12:03:30 AM     35\n",
              " 2      30/12/2021  12:03:38 AM     55\n",
              " 3      30/12/2021  12:03:40 AM    233\n",
              " 4      30/12/2021  12:03:51 AM     44\n",
              " ...                        ...    ...\n",
              " 35556  30/12/2021  11:58:57 PM    242\n",
              " 35557  30/12/2021  11:59:29 PM    190\n",
              " 35558  30/12/2021  11:59:34 PM     35\n",
              " 35559  30/12/2021  11:59:40 PM    136\n",
              " 35560  30/12/2021  11:59:59 PM    230\n",
              " \n",
              " [35561 rows x 2 columns]]"
            ]
          },
          "metadata": {},
          "execution_count": 18
        }
      ]
    },
    {
      "cell_type": "code",
      "source": [
        "# np.round(2342424.23424, 2)"
      ],
      "metadata": {
        "id": "fBrefoqKjt5Z"
      },
      "execution_count": 104,
      "outputs": []
    },
    {
      "cell_type": "code",
      "source": [
        "# len(test_df)"
      ],
      "metadata": {
        "id": "vHp_70W6Ucyl"
      },
      "execution_count": 105,
      "outputs": []
    },
    {
      "cell_type": "code",
      "source": [
        "# test_df[0].datetime[0].split()[0]"
      ],
      "metadata": {
        "id": "Z_M280LfWOKt"
      },
      "execution_count": 106,
      "outputs": []
    },
    {
      "cell_type": "code",
      "source": [
        "# import datetime\n",
        "# datetime.datetime.strptime(\"20/12/2021\", '%d/%m/%Y').strftime('%Y-%m-%d')"
      ],
      "metadata": {
        "id": "ANbYa2B9ZHPp"
      },
      "execution_count": 107,
      "outputs": []
    },
    {
      "cell_type": "code",
      "source": [
        "# test_df[0].datetime[0].strftime('%d%b%Y')"
      ],
      "metadata": {
        "id": "aTdQGG96Yrzr"
      },
      "execution_count": 108,
      "outputs": []
    },
    {
      "cell_type": "code",
      "source": [
        "# Respective line data and bar-plot daily data are made\n",
        "import datetime\n",
        "line = pd.DataFrame(columns = ['Date', 'Amount'])\n",
        "bar_chart_D = pd.DataFrame(columns = ['Date', 'Amount'])\n",
        "date = []\n",
        "amount_line = []\n",
        "amount_graph = []\n",
        "# df = pd.DataFrame(data, columns = ['Name', 'Age'])\n",
        "for i in range(len(test_df)):\n",
        "  # df['date'] = pd.to_datetime(df['date'])\n",
        "\n",
        "  date.append(pd.to_datetime(test_df[i].datetime[0].split()[0]))\n",
        "  amount_line.append(test_df[i]['value'].sum())\n",
        "  amount_graph.append(test_df[i]['value'].mean())\n",
        "\n",
        "line['Date'] = date\n",
        "line['Amount'] = amount_line\n",
        "bar_chart_D['Date'] = date\n",
        "bar_chart_D['Amount'] = amount_graph\n",
        "# line"
      ],
      "metadata": {
        "id": "DIwaHOEomNMg"
      },
      "execution_count": 109,
      "outputs": []
    },
    {
      "cell_type": "code",
      "source": [
        "# bar_chart_D"
      ],
      "metadata": {
        "id": "KBl8Ta6qu9p8"
      },
      "execution_count": 110,
      "outputs": []
    },
    {
      "cell_type": "code",
      "source": [
        "# bar_chart.set_index('Date', drop=True, inplace=True) \n",
        "# bar_chart"
      ],
      "metadata": {
        "id": "uKRqyQ5sXjqp"
      },
      "execution_count": 96,
      "outputs": []
    },
    {
      "cell_type": "code",
      "source": [
        "# bar_char_Dt.Date[0] - pd.DateOffset(days=1)"
      ],
      "metadata": {
        "id": "K2Bmg_t2bLJi"
      },
      "execution_count": 97,
      "outputs": []
    },
    {
      "cell_type": "code",
      "source": [
        "# bar_chart_W.index"
      ],
      "metadata": {
        "id": "fWL2gNhScVJx"
      },
      "execution_count": 98,
      "outputs": []
    },
    {
      "cell_type": "code",
      "source": [
        "# resample weekly to obtain the bar_chart weekly dataset\n",
        "bar_chart_W = bar_chart_D.resample('W', on='Date').mean()\n",
        "chart = []\n",
        "for i in range(len(bar_chart_W)):\n",
        "  chart.append(bar_chart_W.index[i] - pd.DateOffset(days=7))\n",
        "bar_chart_W['startDate'] = chart\n",
        "bar_chart_W\n",
        "bar_chart_W['endDate'] = bar_chart_W.index"
      ],
      "metadata": {
        "id": "CeXzaKG4W8w_"
      },
      "execution_count": 111,
      "outputs": []
    },
    {
      "cell_type": "code",
      "source": [
        "# resample monthly to obtain the bar_chart monthly dataset\n",
        "bar_chart_M = bar_chart_D.resample('M', on='Date').mean()\n",
        "bar_chart_M['Date'] = bar_chart_M.index"
      ],
      "metadata": {
        "id": "wo48OqDqcm0X"
      },
      "execution_count": 112,
      "outputs": []
    },
    {
      "cell_type": "code",
      "source": [
        "# print(bar_chart_W, bar_chart_M)"
      ],
      "metadata": {
        "id": "Npxz4xWSe7HZ"
      },
      "execution_count": 113,
      "outputs": []
    },
    {
      "cell_type": "code",
      "source": [
        "# All four files are then downloaded\n",
        "line.to_csv('line.csv', index = False)\n",
        "bar_chart_D.to_csv('bar_chart_D.csv', index=False)\n",
        "bar_chart_W.to_csv('bar_chart_W.csv', index=False)\n",
        "bar_chart_M.to_csv('bar_chart_M.csv', index=False)"
      ],
      "metadata": {
        "id": "zdJxL1KXn9GQ"
      },
      "execution_count": 114,
      "outputs": []
    },
    {
      "cell_type": "code",
      "source": [
        ""
      ],
      "metadata": {
        "id": "1Q0I7Q7gr3o5"
      },
      "execution_count": null,
      "outputs": []
    }
  ]
}